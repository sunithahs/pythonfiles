{
 "cells": [
  {
   "cell_type": "code",
   "execution_count": 38,
   "id": "28d27f09",
   "metadata": {},
   "outputs": [],
   "source": [
    "def fingen(n):\n",
    "    a=1\n",
    "    b=1\n",
    "    for i in range(n):\n",
    "        yield a\n",
    "        a,b=b,a+b\n",
    "    \n",
    "\n",
    "\n",
    "d=iter(fingen(10))\n"
   ]
  },
  {
   "cell_type": "code",
   "execution_count": 70,
   "id": "37e6e26b",
   "metadata": {},
   "outputs": [
    {
     "ename": "StopIteration",
     "evalue": "",
     "output_type": "error",
     "traceback": [
      "\u001b[1;31m---------------------------------------------------------------------------\u001b[0m",
      "\u001b[1;31mStopIteration\u001b[0m                             Traceback (most recent call last)",
      "\u001b[1;32m<ipython-input-70-9b2daf1403f5>\u001b[0m in \u001b[0;36m<module>\u001b[1;34m\u001b[0m\n\u001b[1;32m----> 1\u001b[1;33m \u001b[0mnext\u001b[0m\u001b[1;33m(\u001b[0m\u001b[0md\u001b[0m\u001b[1;33m)\u001b[0m\u001b[1;33m\u001b[0m\u001b[1;33m\u001b[0m\u001b[0m\n\u001b[0m",
      "\u001b[1;31mStopIteration\u001b[0m: "
     ]
    }
   ],
   "source": [
    "next(d)"
   ]
  },
  {
   "cell_type": "code",
   "execution_count": 79,
   "id": "e72454c8",
   "metadata": {},
   "outputs": [
    {
     "data": {
      "text/plain": [
       "[25, 64, 81, 144, 9, 196]"
      ]
     },
     "execution_count": 79,
     "metadata": {},
     "output_type": "execute_result"
    }
   ],
   "source": [
    "def square(i):\n",
    "    return i**2\n",
    "l=[5,8,9,12,3,14]\n",
    "[i**2 for i in l]\n",
    "\n",
    "l1=list(map(square,l))\n",
    "l1\n",
    "\n",
    "l2=[]\n",
    "for i in l:\n",
    "    l2.append(square(i))\n",
    "    \n",
    "l2"
   ]
  },
  {
   "cell_type": "code",
   "execution_count": 1,
   "id": "4bfb805e",
   "metadata": {},
   "outputs": [
    {
     "ename": "SyntaxError",
     "evalue": "invalid syntax (<ipython-input-1-606260209c3d>, line 2)",
     "output_type": "error",
     "traceback": [
      "\u001b[1;36m  File \u001b[1;32m\"<ipython-input-1-606260209c3d>\"\u001b[1;36m, line \u001b[1;32m2\u001b[0m\n\u001b[1;33m    list(map(lambda (x,y):x+y),d1,d2)\u001b[0m\n\u001b[1;37m                    ^\u001b[0m\n\u001b[1;31mSyntaxError\u001b[0m\u001b[1;31m:\u001b[0m invalid syntax\n"
     ]
    }
   ],
   "source": [
    "d1=[2,3,4,5,6]\n",
    "list(map(lambda (x,y):x+y),d1,d2)"
   ]
  },
  {
   "cell_type": "code",
   "execution_count": 2,
   "id": "c44f8de2",
   "metadata": {},
   "outputs": [
    {
     "data": {
      "text/plain": [
       "'hello sunitha .welcome'"
      ]
     },
     "execution_count": 2,
     "metadata": {},
     "output_type": "execute_result"
    }
   ],
   "source": [
    "def greeeting(name):\n",
    "        return \"hello {} .welcome\".format(name)\n",
    "    \n",
    "greeeting(\"sunitha\")"
   ]
  },
  {
   "cell_type": "code",
   "execution_count": 7,
   "id": "664fff69",
   "metadata": {},
   "outputs": [
    {
     "data": {
      "text/plain": [
       "'welcome sunitha.u r surname ishassan'"
      ]
     },
     "execution_count": 7,
     "metadata": {},
     "output_type": "execute_result"
    }
   ],
   "source": [
    "def welcome_email(fname,lname):\n",
    "    return \"welcome {fn}.u r surname is{ln}\".format(fn=fname,ln=lname)\n",
    "welcome_email(\"sunitha\",\"hassan\")"
   ]
  },
  {
   "cell_type": "code",
   "execution_count": 11,
   "id": "4a2130e3",
   "metadata": {},
   "outputs": [
    {
     "data": {
      "text/plain": [
       "'welcome sunitha.u r surname ishassan'"
      ]
     },
     "execution_count": 11,
     "metadata": {},
     "output_type": "execute_result"
    }
   ],
   "source": [
    "def welcome_email(fname,lname):\n",
    "    return \"welcome {}.u r surname is{}\".format(fname,lname)\n",
    "welcome_email(\"sunitha\",\"hassan\")"
   ]
  },
  {
   "cell_type": "code",
   "execution_count": 22,
   "id": "850c7ca4",
   "metadata": {},
   "outputs": [],
   "source": [
    "#iterables and iterators  \n",
    "l1=[2,4,6,8,9,10]\n",
    "l2=iter(l1)\n"
   ]
  },
  {
   "cell_type": "code",
   "execution_count": 24,
   "id": "0fda0dd2",
   "metadata": {},
   "outputs": [],
   "source": [
    "#next(l2)\n",
    "for i in l2:\n",
    "    print(i)"
   ]
  },
  {
   "cell_type": "code",
   "execution_count": 35,
   "id": "71df521b",
   "metadata": {},
   "outputs": [
    {
     "name": "stdout",
     "output_type": "stream",
     "text": [
      "3\n",
      "4\n",
      "5\n",
      "6\n"
     ]
    }
   ],
   "source": [
    "lst=[3,4,5,6]\n",
    "l2=iter(lst)\n",
    "for i in lst:\n",
    "    print(i)"
   ]
  },
  {
   "cell_type": "code",
   "execution_count": 42,
   "id": "785655d6",
   "metadata": {},
   "outputs": [
    {
     "name": "stdout",
     "output_type": "stream",
     "text": [
      "iterator is empty\n"
     ]
    }
   ],
   "source": [
    "try:\n",
    "    print(next(l2))\n",
    "    \n",
    "except(StopIteration):\n",
    "    print(\"iterator is empty\")\n",
    "    "
   ]
  },
  {
   "cell_type": "code",
   "execution_count": 62,
   "id": "97936d64",
   "metadata": {},
   "outputs": [],
   "source": [
    "def square(n):\n",
    "    for i in range(n):\n",
    "        yield i**2\n",
    "a=square(7)\n",
    "a\n",
    "\n",
    "# for i in a:\n",
    "#     print (i)\n",
    "\n",
    "a_iterable=iter(a)\n"
   ]
  },
  {
   "cell_type": "code",
   "execution_count": 70,
   "id": "be4bf3c1",
   "metadata": {},
   "outputs": [
    {
     "name": "stdout",
     "output_type": "stream",
     "text": [
      "iterator is empty\n"
     ]
    }
   ],
   "source": [
    "try:\n",
    "    \n",
    "    print(next(a_iterable))\n",
    "except StopIteration:\n",
    "    print(\"iterator is empty\")"
   ]
  }
 ],
 "metadata": {
  "kernelspec": {
   "display_name": "Python 3",
   "language": "python",
   "name": "python3"
  },
  "language_info": {
   "codemirror_mode": {
    "name": "ipython",
    "version": 3
   },
   "file_extension": ".py",
   "mimetype": "text/x-python",
   "name": "python",
   "nbconvert_exporter": "python",
   "pygments_lexer": "ipython3",
   "version": "3.8.8"
  }
 },
 "nbformat": 4,
 "nbformat_minor": 5
}
